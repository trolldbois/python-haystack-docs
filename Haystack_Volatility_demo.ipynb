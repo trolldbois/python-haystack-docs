{
 "cells": [
  {
   "cell_type": "code",
   "execution_count": 1,
   "metadata": {
    "collapsed": false
   },
   "outputs": [],
   "source": [
    "import haystack"
   ]
  },
  {
   "cell_type": "code",
   "execution_count": 3,
   "metadata": {
    "collapsed": false
   },
   "outputs": [
    {
     "ename": "SystemExit",
     "evalue": "2",
     "output_type": "error",
     "traceback": [
      "An exception has occurred, use %tb to see the full traceback.\n",
      "\u001b[0;31mSystemExit\u001b[0m\u001b[0;31m:\u001b[0m 2\n"
     ]
    }
   ],
   "source": [
    "f = '/home/other/outputs/vol/zeus.vmem'\n",
    "pid = 676  # services.exe\n",
    "from haystack.mappings import vol\n",
    "mapper = vol.VolatilityProcessMapper(f, pid)\n",
    "mappings = mapper.getMappings()\n",
    "\n",
    "from haystack import abouchet\n",
    "structType = abouchet.getKlass(classname)\n",
    "heaps = abouchet._search(mappings, structType, fullscan=True)\n",
    "\n",
    "for x in mappings:\n",
    "    print x.start, \"Signature:\", hex(x.readStruct(x.start,winheap.HEAP).Signature)\n"
   ]
  },
  {
   "cell_type": "markdown",
   "metadata": {
    "collapsed": false
   },
   "source": [
    "Go see https://github.com/trolldbois/volatility_plugins"
   ]
  }
 ],
 "metadata": {
  "kernelspec": {
   "display_name": "Python 2",
   "language": "python",
   "name": "python2"
  },
  "language_info": {
   "codemirror_mode": {
    "name": "ipython",
    "version": 2
   },
   "file_extension": ".py",
   "mimetype": "text/x-python",
   "name": "python",
   "nbconvert_exporter": "python",
   "pygments_lexer": "ipython2",
   "version": "2.7.9"
  }
 },
 "nbformat": 4,
 "nbformat_minor": 0
}
